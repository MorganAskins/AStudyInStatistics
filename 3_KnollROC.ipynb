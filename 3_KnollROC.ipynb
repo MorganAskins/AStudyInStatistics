{
 "cells": [
  {
   "cell_type": "markdown",
   "metadata": {},
   "source": [
    "# NOTES--Delete\n",
    "1. Show how alpha changes with n_sigma"
   ]
  },
  {
   "cell_type": "code",
   "execution_count": 1,
   "metadata": {},
   "outputs": [],
   "source": [
    "## Import / Setup\n",
    "%matplotlib widget\n",
    "import numpy as np\n",
    "import matplotlib.pyplot as plt\n",
    "from ipywidgets import interactive, FloatSlider"
   ]
  },
  {
   "cell_type": "code",
   "execution_count": 2,
   "metadata": {},
   "outputs": [],
   "source": [
    "# Useful functions and definitions\n",
    "π = np.pi\n",
    "plt.style.use('dark_background')\n",
    "plt.style.use('stats.mplstyle')\n",
    "def normal(x, μ, σ):\n",
    "    return (2*π*σ**2)**(-0.5) * np.exp(-(x-μ)**2 / 2 / σ**2)"
   ]
  },
  {
   "cell_type": "code",
   "execution_count": 3,
   "metadata": {},
   "outputs": [
    {
     "data": {
      "application/vnd.jupyter.widget-view+json": {
       "model_id": "56510b3cfad046a98c34e85593b4606f",
       "version_major": 2,
       "version_minor": 0
      },
      "text/plain": [
       "interactive(children=(FloatSlider(value=50.0, description='Bkg', min=1.0, step=0.01), FloatSlider(value=50.0, …"
      ]
     },
     "metadata": {},
     "output_type": "display_data"
    }
   ],
   "source": [
    "## Example to test the Knoll hypothesis\n",
    "%matplotlib inline\n",
    "knoll = lambda σ: 4.653*σ + 2.706\n",
    "n = np.linspace(-1000,1000,100000)\n",
    "\n",
    "def prob_choice(Bkg, Signal, LowerCut):\n",
    "    nb = Bkg\n",
    "    Lc = LowerCut\n",
    "    ns = knoll(np.sqrt(nb))\n",
    "    ns = Signal\n",
    "    \n",
    "    print(f'Knoll> Signal: {knoll(np.sqrt(nb)):0.3f} Cut: {2.326*np.sqrt(nb):0.3f}')\n",
    "    print(f'Lc: {Lc:0.3f}')\n",
    "    σt = np.sqrt(ns+2*nb)\n",
    "    p = normal(n, ns, σt)\n",
    "    bkg = normal(n, 0, np.sqrt(2*nb))\n",
    "    c = np.cumsum(p) / max(np.cumsum(p))\n",
    "    k = 1 - np.cumsum(bkg)/max(np.cumsum(bkg))\n",
    "    x_alpha = np.where(n>=Lc)[0][0]\n",
    "    alpha   = c[x_alpha]\n",
    "    n_alpha = n[x_alpha]\n",
    "    print(f'False Negative: {alpha:0.3f}')\n",
    "    print(f'False Positive: {k[x_alpha]:0.3f}')\n",
    "    xtop = (ns + 5*σt)\n",
    "    xbot = -5*np.sqrt(nb)\n",
    "    \n",
    "    fig, (ax1, ax2) = plt.subplots(1, 2, figsize=(14,5))\n",
    "    ax1.plot(n, p, color='xkcd:cerulean')\n",
    "    ax1.plot(n, bkg, color='xkcd:burnt orange')\n",
    "    ax1.set_xlim(xbot, xtop)\n",
    "    ax1.set_ylim(bottom=0)\n",
    "    ax1.axvline(Lc, color='white')\n",
    "    \n",
    "    ax2.plot(k, 1-c, '.', color='xkcd:cerulean')\n",
    "    ax2.plot(0.05, 0.95, '*', color='xkcd:gold')\n",
    "    ax2.plot(k[x_alpha], (1-c)[x_alpha], '8', color='xkcd:white')\n",
    "    plt.show()\n",
    "\n",
    "interactive_plot = interactive(prob_choice, \n",
    "                               Bkg=FloatSlider(min=1.0, max=100.0, step=0.01, value=50.0),\n",
    "                               Signal=FloatSlider(min=1.0, max=100.0, step=0.01, value=50.0),\n",
    "                               LowerCut=FloatSlider(min=0.0, max=100.0, step=0.01, value=25.0)\n",
    "                              )\n",
    "output = interactive_plot.children[-1]\n",
    "output.layout.height = '400px'\n",
    "interactive_plot"
   ]
  },
  {
   "cell_type": "code",
   "execution_count": 8,
   "metadata": {},
   "outputs": [
    {
     "data": {
      "text/plain": [
       "32.0"
      ]
     },
     "execution_count": 8,
     "metadata": {},
     "output_type": "execute_result"
    }
   ],
   "source": [
    "def test(b):\n",
    "    return (-0.5+0.5*np.sqrt(1+6*b*4))/0.75\n",
    "\n",
    "test(100.0)"
   ]
  },
  {
   "cell_type": "code",
   "execution_count": null,
   "metadata": {},
   "outputs": [],
   "source": []
  }
 ],
 "metadata": {
  "kernelspec": {
   "display_name": "Python 3",
   "language": "python",
   "name": "python3"
  },
  "language_info": {
   "codemirror_mode": {
    "name": "ipython",
    "version": 3
   },
   "file_extension": ".py",
   "mimetype": "text/x-python",
   "name": "python",
   "nbconvert_exporter": "python",
   "pygments_lexer": "ipython3",
   "version": "3.8.2"
  }
 },
 "nbformat": 4,
 "nbformat_minor": 4
}
